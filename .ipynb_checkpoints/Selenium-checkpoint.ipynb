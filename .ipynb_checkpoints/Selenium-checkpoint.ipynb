{
 "cells": [
  {
   "cell_type": "markdown",
   "id": "ed75dbd1",
   "metadata": {},
   "source": [
    "IMPORTAMOS TODAS LAS LIBRERIAS"
   ]
  },
  {
   "cell_type": "code",
   "execution_count": 1,
   "id": "97fb3d6e",
   "metadata": {},
   "outputs": [],
   "source": [
    "from selenium import webdriver\n",
    "from selenium.webdriver.chrome.options import Options\n",
    "import time\n",
    "from selenium.webdriver.common.keys import Keys\n",
    "from time import sleep\n",
    "import pandas as pd\n",
    "from selenium.webdriver.support.ui import Select\n",
    "from webdriver_manager.chrome import ChromeDriverManager"
   ]
  },
  {
   "cell_type": "markdown",
   "id": "4f50fb7b",
   "metadata": {},
   "source": [
    "VAMOS A SCRAPPEAR LA PÁGINA DE GLOVO"
   ]
  },
  {
   "cell_type": "markdown",
   "id": "5ad667c8",
   "metadata": {},
   "source": [
    "EL PRIMER PASO ES ENTENDER QUE PATRONES SIGUE, ESTOS NOS AYUDARÁN A OBTENER LA INFORMACIÓN DESEADA "
   ]
  },
  {
   "cell_type": "markdown",
   "id": "e4a0f2e3",
   "metadata": {},
   "source": [
    "PATERN URL'S\n",
    "\n",
    "URL Página I\n",
    "\"https://glovoapp.com/es/es/madrid/restaurantes_1/?page=1\"\n",
    "\n",
    "URL Página II\n",
    "\"https://glovoapp.com/es/es/madrid/restaurantes_1/?page=2\"\n",
    "\n",
    "URL Página III\n",
    "\"https://glovoapp.com/es/es/madrid/restaurantes_1/?page=3\""
   ]
  },
  {
   "cell_type": "markdown",
   "id": "10ff82c5",
   "metadata": {},
   "source": [
    "CREAMOS UN LISTADO DE NUESTROS URLS"
   ]
  },
  {
   "cell_type": "code",
   "execution_count": 6,
   "id": "a43316c0",
   "metadata": {},
   "outputs": [],
   "source": [
    "#CREATING A LIST OF URL'S\n",
    "\n",
    "url_list = []\n",
    "for page in range(1,35):\n",
    "        url_list.append(f\"https://glovoapp.com/es/es/madrid/restaurantes_1/?page={page}\")"
   ]
  },
  {
   "cell_type": "markdown",
   "id": "6b4336cb",
   "metadata": {},
   "source": [
    "A VER NUESTRA LISTA"
   ]
  },
  {
   "cell_type": "code",
   "execution_count": 44,
   "id": "afbf8781",
   "metadata": {},
   "outputs": [],
   "source": [
    "#url_list"
   ]
  },
  {
   "cell_type": "markdown",
   "id": "b2ac69c6",
   "metadata": {},
   "source": [
    "VENTANA DE INCOGNITO / ADBLOCKER / COOKIES"
   ]
  },
  {
   "cell_type": "code",
   "execution_count": 3,
   "id": "d1e5819d",
   "metadata": {},
   "outputs": [],
   "source": [
    "#Opciones de Selenium para evitar que sepan que eres un robot\n",
    "opciones= Options()\n",
    "opciones.add_experimental_option('excludeSwitches', ['enable-automation'])\n",
    "#para ocultarme como robot, pero me sigue diciendo que hay un software automatico usando chrome\n",
    "opciones.add_experimental_option('useAutomationExtension', False)\n",
    "opciones.add_argument('--start-maximized') #empezar maximizado\n",
    "opciones.add_argument('user.data-dir=selenium') #guarda las cookies\n",
    "opciones.add_argument('drive/adblock.crx') #adblocker\n",
    "#opciones.add_argument('--incognito')#incognito window"
   ]
  },
  {
   "cell_type": "markdown",
   "id": "a4adc338",
   "metadata": {},
   "source": [
    "A POR LA INFO..."
   ]
  },
  {
   "cell_type": "code",
   "execution_count": 9,
   "id": "fc37fdc5",
   "metadata": {
    "scrolled": false
   },
   "outputs": [
    {
     "name": "stderr",
     "output_type": "stream",
     "text": [
      "\n",
      "\n",
      "====== WebDriver manager ======\n",
      "Current google-chrome version is 95.0.4638\n",
      "Get LATEST chromedriver version for 95.0.4638 google-chrome\n",
      "Driver [/Users/juanvegapenichet/.wdm/drivers/chromedriver/mac64/95.0.4638.69/chromedriver] found in cache\n",
      "/var/folders/lp/_3blnsw12kj309tphctgyqlr0000gn/T/ipykernel_50133/830903784.py:1: DeprecationWarning: executable_path has been deprecated, please pass in a Service object\n",
      "  driver = webdriver.Chrome(ChromeDriverManager().install())\n"
     ]
    },
    {
     "name": "stdout",
     "output_type": "stream",
     "text": [
      "Done_1\n"
     ]
    },
    {
     "name": "stderr",
     "output_type": "stream",
     "text": [
      "/var/folders/lp/_3blnsw12kj309tphctgyqlr0000gn/T/ipykernel_50133/830903784.py:11: DeprecationWarning: find_element_by_* commands are deprecated. Please use find_element() instead\n",
      "  driver.find_element_by_css_selector(\"#onetrust-accept-btn-handler\").click()\n"
     ]
    },
    {
     "name": "stdout",
     "output_type": "stream",
     "text": [
      "Done_2\n"
     ]
    },
    {
     "name": "stderr",
     "output_type": "stream",
     "text": [
      "/var/folders/lp/_3blnsw12kj309tphctgyqlr0000gn/T/ipykernel_50133/830903784.py:14: DeprecationWarning: find_element_by_* commands are deprecated. Please use find_element() instead\n",
      "  driver.find_element_by_xpath('//*[@id=\"3\"]/nav/div[1]/a/h2').click()\n"
     ]
    },
    {
     "name": "stdout",
     "output_type": "stream",
     "text": [
      "Done_3\n"
     ]
    },
    {
     "name": "stderr",
     "output_type": "stream",
     "text": [
      "/var/folders/lp/_3blnsw12kj309tphctgyqlr0000gn/T/ipykernel_50133/830903784.py:18: DeprecationWarning: find_element_by_* commands are deprecated. Please use find_element() instead\n",
      "  driver.find_element_by_xpath('//*[@id=\"__layout\"]/div/div[2]/div/div/div/div/div/form/div[1]/div[1]/div[2]/a').click()\n"
     ]
    },
    {
     "name": "stdout",
     "output_type": "stream",
     "text": [
      "Done_4\n"
     ]
    },
    {
     "name": "stderr",
     "output_type": "stream",
     "text": [
      "/var/folders/lp/_3blnsw12kj309tphctgyqlr0000gn/T/ipykernel_50133/830903784.py:22: DeprecationWarning: find_element_by_* commands are deprecated. Please use find_element() instead\n",
      "  driver.find_element_by_xpath('//*[@id=\"__layout\"]/div/div[2]/div/div/div/div/div/div[2]/button').click()\n"
     ]
    },
    {
     "name": "stdout",
     "output_type": "stream",
     "text": [
      "Done_5\n"
     ]
    },
    {
     "name": "stderr",
     "output_type": "stream",
     "text": [
      "/var/folders/lp/_3blnsw12kj309tphctgyqlr0000gn/T/ipykernel_50133/830903784.py:26: DeprecationWarning: find_element_by_* commands are deprecated. Please use find_element() instead\n",
      "  driver.find_element_by_xpath('//*[@id=\"address-submit-button\"]').click()\n"
     ]
    },
    {
     "name": "stdout",
     "output_type": "stream",
     "text": [
      "Done_6\n"
     ]
    },
    {
     "name": "stderr",
     "output_type": "stream",
     "text": [
      "/var/folders/lp/_3blnsw12kj309tphctgyqlr0000gn/T/ipykernel_50133/830903784.py:33: DeprecationWarning: find_element_by_* commands are deprecated. Please use find_element() instead\n",
      "  my_info = driver.find_element_by_xpath(f'/html/body/div[1]/div/div/div[1]/div/div/div/main/div[2]/div/div/div[{number}]')\n"
     ]
    },
    {
     "name": "stdout",
     "output_type": "stream",
     "text": [
      "Done_7\n"
     ]
    },
    {
     "data": {
      "text/plain": [
       "<bound method ChromiumDriver.quit of <selenium.webdriver.chrome.webdriver.WebDriver (session=\"f8edea2a1834fb187176ab7d6ccadf28\")>>"
      ]
     },
     "execution_count": 9,
     "metadata": {},
     "output_type": "execute_result"
    }
   ],
   "source": [
    "driver = webdriver.Chrome(ChromeDriverManager().install())\n",
    "results_list = []\n",
    "\n",
    "for i in url_list:   \n",
    "    #VAMOS AL URL\n",
    "    driver.get(i)\n",
    "    sleep(5)\n",
    "    print(\"Done_1\")\n",
    "    \n",
    "    # ACEPTAMOS LAS COOKIES\n",
    "    driver.find_element_by_css_selector(\"#onetrust-accept-btn-handler\").click()\n",
    "    print(\"Done_2\")\n",
    "    # QUEREMOS DARLE UNA DIRECCIÓN DE BUSQUEDA, HACEMOS CLICK EN \"CERCA DE MI\"\n",
    "    driver.find_element_by_xpath('//*[@id=\"3\"]/nav/div[1]/a/h2').click()\n",
    "    sleep(8)\n",
    "    print(\"Done_3\")\n",
    "    # HACEMOS CLICK EN ELEGIR EN EL MAPA\n",
    "    driver.find_element_by_xpath('//*[@id=\"__layout\"]/div/div[2]/div/div/div/div/div/form/div[1]/div[1]/div[2]/a').click()\n",
    "    sleep(8)\n",
    "    print(\"Done_4\")\n",
    "    # CONFIRMAMOS LA DIRECCIÓN RECONOCIDA\n",
    "    driver.find_element_by_xpath('//*[@id=\"__layout\"]/div/div[2]/div/div/div/div/div/div[2]/button').click()\n",
    "    sleep(15)\n",
    "    print(\"Done_5\")\n",
    "    # SUBMIT LA DIRECCIÓN FINAL\n",
    "    driver.find_element_by_xpath('//*[@id=\"address-submit-button\"]').click()\n",
    "    sleep(15)\n",
    "    print(\"Done_6\")\n",
    "\n",
    "    #results_list.append(driver.find_element_by_xpath('//*[@id=\"default-wrapper\"]/div/div/div/main/div[2]/div/div'))\n",
    "    \n",
    "    for number in range (1,49):\n",
    "        my_info = driver.find_element_by_xpath(f'/html/body/div[1]/div/div/div[1]/div/div/div/main/div[2]/div/div/div[{number}]')\n",
    "        results_list.append(my_info.text)\n",
    "    print(\"Done_7\")\n",
    "    break\n",
    "    \n",
    "driver.quit\n"
   ]
  },
  {
   "cell_type": "markdown",
   "id": "911b90bc",
   "metadata": {},
   "source": [
    "QUE TENEMOS?"
   ]
  },
  {
   "cell_type": "code",
   "execution_count": 45,
   "id": "0e1a3adb",
   "metadata": {
    "scrolled": false
   },
   "outputs": [],
   "source": [
    "#results_list"
   ]
  },
  {
   "cell_type": "markdown",
   "id": "d15e966c",
   "metadata": {},
   "source": [
    "VAMOS A CONVERTIRLO EN UN DATAFRAME Y A LIMPIARLO"
   ]
  },
  {
   "cell_type": "code",
   "execution_count": 11,
   "id": "a87bb827",
   "metadata": {},
   "outputs": [],
   "source": [
    "import pandas as pd"
   ]
  },
  {
   "cell_type": "code",
   "execution_count": 12,
   "id": "1da39690",
   "metadata": {},
   "outputs": [],
   "source": [
    "df = pd.DataFrame(results_list)"
   ]
  },
  {
   "cell_type": "code",
   "execution_count": 15,
   "id": "11be13bd",
   "metadata": {},
   "outputs": [
    {
     "data": {
      "text/html": [
       "<div>\n",
       "<style scoped>\n",
       "    .dataframe tbody tr th:only-of-type {\n",
       "        vertical-align: middle;\n",
       "    }\n",
       "\n",
       "    .dataframe tbody tr th {\n",
       "        vertical-align: top;\n",
       "    }\n",
       "\n",
       "    .dataframe thead th {\n",
       "        text-align: right;\n",
       "    }\n",
       "</style>\n",
       "<table border=\"1\" class=\"dataframe\">\n",
       "  <thead>\n",
       "    <tr style=\"text-align: right;\">\n",
       "      <th></th>\n",
       "      <th>0</th>\n",
       "    </tr>\n",
       "  </thead>\n",
       "  <tbody>\n",
       "    <tr>\n",
       "      <th>43</th>\n",
       "      <td>-25%\\nMiss Sushi\\nJaponesa\\n93%\\n(500+)</td>\n",
       "    </tr>\n",
       "    <tr>\n",
       "      <th>44</th>\n",
       "      <td>Miss Sushi 100% Vegetal\\nSaludable\\nVegetarian...</td>\n",
       "    </tr>\n",
       "    <tr>\n",
       "      <th>45</th>\n",
       "      <td>2x1\\n-30%\\nMiss Poke\\nComercioLocal\\nPoke\\n90%...</td>\n",
       "    </tr>\n",
       "    <tr>\n",
       "      <th>46</th>\n",
       "      <td>Crudo Pokes &amp; Salads\\nPoke\\nSaludable\\n91%\\n(132)</td>\n",
       "    </tr>\n",
       "    <tr>\n",
       "      <th>47</th>\n",
       "      <td>Gracias Padre\\nMexicana\\n81%\\n(48)</td>\n",
       "    </tr>\n",
       "  </tbody>\n",
       "</table>\n",
       "</div>"
      ],
      "text/plain": [
       "                                                    0\n",
       "43            -25%\\nMiss Sushi\\nJaponesa\\n93%\\n(500+)\n",
       "44  Miss Sushi 100% Vegetal\\nSaludable\\nVegetarian...\n",
       "45  2x1\\n-30%\\nMiss Poke\\nComercioLocal\\nPoke\\n90%...\n",
       "46  Crudo Pokes & Salads\\nPoke\\nSaludable\\n91%\\n(132)\n",
       "47                 Gracias Padre\\nMexicana\\n81%\\n(48)"
      ]
     },
     "execution_count": 15,
     "metadata": {},
     "output_type": "execute_result"
    }
   ],
   "source": [
    "df.tail()"
   ]
  },
  {
   "cell_type": "markdown",
   "id": "acbc33b7",
   "metadata": {},
   "source": [
    "TENEMOS UN DATAFRAME CON UNA SOLA COLUMNA, VAMOS A LIMPIARLO"
   ]
  },
  {
   "cell_type": "markdown",
   "id": "d44fbc34",
   "metadata": {},
   "source": [
    "LO CONVERTIMOS EN UNA LISTA DE LISTAS Y LE QUITAMOS \"\\n\""
   ]
  },
  {
   "cell_type": "code",
   "execution_count": 16,
   "id": "03901c73",
   "metadata": {},
   "outputs": [],
   "source": [
    "final = []\n",
    "for i in range(48):\n",
    "    final.append(df.iloc[i][0].split(\"\\n\"))"
   ]
  },
  {
   "cell_type": "code",
   "execution_count": 18,
   "id": "db348714",
   "metadata": {},
   "outputs": [],
   "source": [
    "#final"
   ]
  },
  {
   "cell_type": "markdown",
   "id": "6377f01e",
   "metadata": {},
   "source": [
    "HACEMOS UN DATAFRAME CON ESTOS DATOS LIMPIOS"
   ]
  },
  {
   "cell_type": "code",
   "execution_count": 19,
   "id": "660fadd4",
   "metadata": {},
   "outputs": [],
   "source": [
    "df = pd.DataFrame(final)"
   ]
  },
  {
   "cell_type": "markdown",
   "id": "f740a150",
   "metadata": {},
   "source": [
    "SETEAMOS LOS NOMBRES DE LAS COLUMNAS"
   ]
  },
  {
   "cell_type": "code",
   "execution_count": 20,
   "id": "69235257",
   "metadata": {},
   "outputs": [],
   "source": [
    "columnas = [\"Restaurant\", \"Tags\", \"Tags_2\", \"Like\", \"Nº Valoraciones\", \"Delivery fee\", \"Erase\", \"ETA\",\"\"]"
   ]
  },
  {
   "cell_type": "code",
   "execution_count": 21,
   "id": "188f40ea",
   "metadata": {},
   "outputs": [],
   "source": [
    "df.columns = columnas"
   ]
  },
  {
   "cell_type": "markdown",
   "id": "509b4fe0",
   "metadata": {},
   "source": [
    "QUE TENEMOS?"
   ]
  },
  {
   "cell_type": "code",
   "execution_count": 39,
   "id": "989caec6",
   "metadata": {
    "scrolled": false
   },
   "outputs": [
    {
     "data": {
      "text/html": [
       "<div>\n",
       "<style scoped>\n",
       "    .dataframe tbody tr th:only-of-type {\n",
       "        vertical-align: middle;\n",
       "    }\n",
       "\n",
       "    .dataframe tbody tr th {\n",
       "        vertical-align: top;\n",
       "    }\n",
       "\n",
       "    .dataframe thead th {\n",
       "        text-align: right;\n",
       "    }\n",
       "</style>\n",
       "<table border=\"1\" class=\"dataframe\">\n",
       "  <thead>\n",
       "    <tr style=\"text-align: right;\">\n",
       "      <th></th>\n",
       "      <th>Restaurant</th>\n",
       "      <th>Tags</th>\n",
       "      <th>Tags_2</th>\n",
       "      <th>Like</th>\n",
       "      <th>Nº Valoraciones</th>\n",
       "      <th>Delivery fee</th>\n",
       "      <th>Erase</th>\n",
       "      <th>ETA</th>\n",
       "      <th></th>\n",
       "    </tr>\n",
       "  </thead>\n",
       "  <tbody>\n",
       "    <tr>\n",
       "      <th>0</th>\n",
       "      <td>Thong</td>\n",
       "      <td>Asiática</td>\n",
       "      <td>98%</td>\n",
       "      <td>(173)</td>\n",
       "      <td>0,99 €</td>\n",
       "      <td>·</td>\n",
       "      <td>15-25 min</td>\n",
       "      <td>None</td>\n",
       "      <td>None</td>\n",
       "    </tr>\n",
       "    <tr>\n",
       "      <th>1</th>\n",
       "      <td>Pizzas Lamucca</td>\n",
       "      <td>Hamburguesas</td>\n",
       "      <td>Pizza</td>\n",
       "      <td>95%</td>\n",
       "      <td>(76)</td>\n",
       "      <td>1,49 €</td>\n",
       "      <td>·</td>\n",
       "      <td>15-25 min</td>\n",
       "      <td>None</td>\n",
       "    </tr>\n",
       "    <tr>\n",
       "      <th>2</th>\n",
       "      <td>Sushi Yakuza</td>\n",
       "      <td>Japonesa</td>\n",
       "      <td>97%</td>\n",
       "      <td>(150)</td>\n",
       "      <td>0,99 €</td>\n",
       "      <td>·</td>\n",
       "      <td>15-25 min</td>\n",
       "      <td>None</td>\n",
       "      <td>None</td>\n",
       "    </tr>\n",
       "    <tr>\n",
       "      <th>3</th>\n",
       "      <td>Goiko</td>\n",
       "      <td>Americana</td>\n",
       "      <td>Hamburguesas</td>\n",
       "      <td>98%</td>\n",
       "      <td>(500+)</td>\n",
       "      <td>1,49 €</td>\n",
       "      <td>·</td>\n",
       "      <td>15-25 min</td>\n",
       "      <td>None</td>\n",
       "    </tr>\n",
       "    <tr>\n",
       "      <th>4</th>\n",
       "      <td>Le Coq</td>\n",
       "      <td>Pollo</td>\n",
       "      <td>96%</td>\n",
       "      <td>(500+)</td>\n",
       "      <td>1,99 €</td>\n",
       "      <td>·</td>\n",
       "      <td>10-20 min</td>\n",
       "      <td>None</td>\n",
       "      <td>None</td>\n",
       "    </tr>\n",
       "    <tr>\n",
       "      <th>5</th>\n",
       "      <td>Le Burgerie</td>\n",
       "      <td>Hamburguesas</td>\n",
       "      <td>96%</td>\n",
       "      <td>(57)</td>\n",
       "      <td>0,99 €</td>\n",
       "      <td>·</td>\n",
       "      <td>15-25 min</td>\n",
       "      <td>None</td>\n",
       "      <td>None</td>\n",
       "    </tr>\n",
       "    <tr>\n",
       "      <th>6</th>\n",
       "      <td>Sweet Teo</td>\n",
       "      <td>Desayuno &amp; Merienda</td>\n",
       "      <td>Helado</td>\n",
       "      <td>92%</td>\n",
       "      <td>(181)</td>\n",
       "      <td>0,99 €</td>\n",
       "      <td>·</td>\n",
       "      <td>15-25 min</td>\n",
       "      <td>None</td>\n",
       "    </tr>\n",
       "    <tr>\n",
       "      <th>7</th>\n",
       "      <td>French Crêpe</td>\n",
       "      <td>Mediterránea</td>\n",
       "      <td>Snacks</td>\n",
       "      <td>94%</td>\n",
       "      <td>(77)</td>\n",
       "      <td>1,49 €</td>\n",
       "      <td>·</td>\n",
       "      <td>15-25 min</td>\n",
       "      <td>None</td>\n",
       "    </tr>\n",
       "    <tr>\n",
       "      <th>8</th>\n",
       "      <td>Juicy Avenue Vegan</td>\n",
       "      <td>Saludable</td>\n",
       "      <td>Vegetariana</td>\n",
       "      <td>93%</td>\n",
       "      <td>(109)</td>\n",
       "      <td>1,99 €</td>\n",
       "      <td>·</td>\n",
       "      <td>15-25 min</td>\n",
       "      <td>None</td>\n",
       "    </tr>\n",
       "    <tr>\n",
       "      <th>9</th>\n",
       "      <td>Ok Corral</td>\n",
       "      <td>Pollo</td>\n",
       "      <td>80%</td>\n",
       "      <td>(13)</td>\n",
       "      <td>1,99 €</td>\n",
       "      <td>·</td>\n",
       "      <td>15-25 min</td>\n",
       "      <td>None</td>\n",
       "      <td>None</td>\n",
       "    </tr>\n",
       "    <tr>\n",
       "      <th>10</th>\n",
       "      <td>Juicy Avenue</td>\n",
       "      <td>Americana</td>\n",
       "      <td>Saludable</td>\n",
       "      <td>95%</td>\n",
       "      <td>(489)</td>\n",
       "      <td>1,49 €</td>\n",
       "      <td>·</td>\n",
       "      <td>15-25 min</td>\n",
       "      <td>None</td>\n",
       "    </tr>\n",
       "    <tr>\n",
       "      <th>11</th>\n",
       "      <td>Guakamola</td>\n",
       "      <td>Mexicana</td>\n",
       "      <td>90%</td>\n",
       "      <td>(45)</td>\n",
       "      <td>0,99 €</td>\n",
       "      <td>·</td>\n",
       "      <td>15-25 min</td>\n",
       "      <td>None</td>\n",
       "      <td>None</td>\n",
       "    </tr>\n",
       "    <tr>\n",
       "      <th>12</th>\n",
       "      <td>Pinsa Pizza</td>\n",
       "      <td>Italiana</td>\n",
       "      <td>95%</td>\n",
       "      <td>(138)</td>\n",
       "      <td>0,99 €</td>\n",
       "      <td>·</td>\n",
       "      <td>15-25 min</td>\n",
       "      <td>None</td>\n",
       "      <td>None</td>\n",
       "    </tr>\n",
       "    <tr>\n",
       "      <th>13</th>\n",
       "      <td>La Gaditana Castellana</td>\n",
       "      <td>Internacional</td>\n",
       "      <td>98%</td>\n",
       "      <td>(24)</td>\n",
       "      <td>1,49 €</td>\n",
       "      <td>·</td>\n",
       "      <td>25-35 min</td>\n",
       "      <td>None</td>\n",
       "      <td>None</td>\n",
       "    </tr>\n",
       "    <tr>\n",
       "      <th>14</th>\n",
       "      <td>400 Grados Pizza</td>\n",
       "      <td>Pizza</td>\n",
       "      <td>91%</td>\n",
       "      <td>(57)</td>\n",
       "      <td>1,49 €</td>\n",
       "      <td>·</td>\n",
       "      <td>25-35 min</td>\n",
       "      <td>None</td>\n",
       "      <td>None</td>\n",
       "    </tr>\n",
       "    <tr>\n",
       "      <th>15</th>\n",
       "      <td>Naked And Sated</td>\n",
       "      <td>Saludable</td>\n",
       "      <td>94%</td>\n",
       "      <td>(500+)</td>\n",
       "      <td>1,49 €</td>\n",
       "      <td>·</td>\n",
       "      <td>20-30 min</td>\n",
       "      <td>None</td>\n",
       "      <td>None</td>\n",
       "    </tr>\n",
       "    <tr>\n",
       "      <th>16</th>\n",
       "      <td>La Fina Pizza</td>\n",
       "      <td>Pizza</td>\n",
       "      <td>100%</td>\n",
       "      <td>(100)</td>\n",
       "      <td>1,49 €</td>\n",
       "      <td>·</td>\n",
       "      <td>15-25 min</td>\n",
       "      <td>None</td>\n",
       "      <td>None</td>\n",
       "    </tr>\n",
       "    <tr>\n",
       "      <th>17</th>\n",
       "      <td>-20%</td>\n",
       "      <td>Honest Greens</td>\n",
       "      <td>Mediterránea</td>\n",
       "      <td>Saludable</td>\n",
       "      <td>92%</td>\n",
       "      <td>(500+)</td>\n",
       "      <td>1,49 €</td>\n",
       "      <td>·</td>\n",
       "      <td>15-25 min</td>\n",
       "    </tr>\n",
       "    <tr>\n",
       "      <th>18</th>\n",
       "      <td>New York Burger</td>\n",
       "      <td>Hamburguesas</td>\n",
       "      <td>95%</td>\n",
       "      <td>(500+)</td>\n",
       "      <td>1,49 €</td>\n",
       "      <td>·</td>\n",
       "      <td>20-30 min</td>\n",
       "      <td>None</td>\n",
       "      <td>None</td>\n",
       "    </tr>\n",
       "    <tr>\n",
       "      <th>19</th>\n",
       "      <td>-15%</td>\n",
       "      <td>Doli Restaurante Indio</td>\n",
       "      <td>India</td>\n",
       "      <td>95%</td>\n",
       "      <td>(196)</td>\n",
       "      <td>1,49 €</td>\n",
       "      <td>·</td>\n",
       "      <td>25-35 min</td>\n",
       "      <td>None</td>\n",
       "    </tr>\n",
       "  </tbody>\n",
       "</table>\n",
       "</div>"
      ],
      "text/plain": [
       "                Restaurant                    Tags        Tags_2       Like  \\\n",
       "0                    Thong                Asiática           98%      (173)   \n",
       "1           Pizzas Lamucca            Hamburguesas         Pizza        95%   \n",
       "2             Sushi Yakuza                Japonesa           97%      (150)   \n",
       "3                    Goiko               Americana  Hamburguesas        98%   \n",
       "4                   Le Coq                   Pollo           96%     (500+)   \n",
       "5              Le Burgerie            Hamburguesas           96%       (57)   \n",
       "6                Sweet Teo     Desayuno & Merienda        Helado        92%   \n",
       "7             French Crêpe            Mediterránea        Snacks        94%   \n",
       "8       Juicy Avenue Vegan               Saludable   Vegetariana        93%   \n",
       "9                Ok Corral                   Pollo           80%       (13)   \n",
       "10            Juicy Avenue               Americana     Saludable        95%   \n",
       "11               Guakamola                Mexicana           90%       (45)   \n",
       "12             Pinsa Pizza                Italiana           95%      (138)   \n",
       "13  La Gaditana Castellana           Internacional           98%       (24)   \n",
       "14        400 Grados Pizza                   Pizza           91%       (57)   \n",
       "15         Naked And Sated               Saludable           94%     (500+)   \n",
       "16           La Fina Pizza                   Pizza          100%      (100)   \n",
       "17                    -20%           Honest Greens  Mediterránea  Saludable   \n",
       "18         New York Burger            Hamburguesas           95%     (500+)   \n",
       "19                    -15%  Doli Restaurante Indio         India        95%   \n",
       "\n",
       "   Nº Valoraciones Delivery fee      Erase        ETA             \n",
       "0           0,99 €            ·  15-25 min       None       None  \n",
       "1             (76)       1,49 €          ·  15-25 min       None  \n",
       "2           0,99 €            ·  15-25 min       None       None  \n",
       "3           (500+)       1,49 €          ·  15-25 min       None  \n",
       "4           1,99 €            ·  10-20 min       None       None  \n",
       "5           0,99 €            ·  15-25 min       None       None  \n",
       "6            (181)       0,99 €          ·  15-25 min       None  \n",
       "7             (77)       1,49 €          ·  15-25 min       None  \n",
       "8            (109)       1,99 €          ·  15-25 min       None  \n",
       "9           1,99 €            ·  15-25 min       None       None  \n",
       "10           (489)       1,49 €          ·  15-25 min       None  \n",
       "11          0,99 €            ·  15-25 min       None       None  \n",
       "12          0,99 €            ·  15-25 min       None       None  \n",
       "13          1,49 €            ·  25-35 min       None       None  \n",
       "14          1,49 €            ·  25-35 min       None       None  \n",
       "15          1,49 €            ·  20-30 min       None       None  \n",
       "16          1,49 €            ·  15-25 min       None       None  \n",
       "17             92%       (500+)     1,49 €          ·  15-25 min  \n",
       "18          1,49 €            ·  20-30 min       None       None  \n",
       "19           (196)       1,49 €          ·  25-35 min       None  "
      ]
     },
     "execution_count": 39,
     "metadata": {},
     "output_type": "execute_result"
    }
   ],
   "source": [
    "df.head(20)"
   ]
  },
  {
   "cell_type": "markdown",
   "id": "6c773a7a",
   "metadata": {},
   "source": [
    "ESTE ES UN EJEMPLO DE UN DATO \"COMPLETO\""
   ]
  },
  {
   "cell_type": "code",
   "execution_count": 32,
   "id": "0cf0a54e",
   "metadata": {},
   "outputs": [
    {
     "data": {
      "text/html": [
       "<div>\n",
       "<style scoped>\n",
       "    .dataframe tbody tr th:only-of-type {\n",
       "        vertical-align: middle;\n",
       "    }\n",
       "\n",
       "    .dataframe tbody tr th {\n",
       "        vertical-align: top;\n",
       "    }\n",
       "\n",
       "    .dataframe thead th {\n",
       "        text-align: right;\n",
       "    }\n",
       "</style>\n",
       "<table border=\"1\" class=\"dataframe\">\n",
       "  <thead>\n",
       "    <tr style=\"text-align: right;\">\n",
       "      <th></th>\n",
       "      <th>Restaurant</th>\n",
       "      <th>Tags</th>\n",
       "      <th>Tags_2</th>\n",
       "      <th>Like</th>\n",
       "      <th>Nº Valoraciones</th>\n",
       "      <th>Delivery fee</th>\n",
       "      <th>Erase</th>\n",
       "      <th>ETA</th>\n",
       "      <th></th>\n",
       "    </tr>\n",
       "  </thead>\n",
       "  <tbody>\n",
       "    <tr>\n",
       "      <th>1</th>\n",
       "      <td>Pizzas Lamucca</td>\n",
       "      <td>Hamburguesas</td>\n",
       "      <td>Pizza</td>\n",
       "      <td>95%</td>\n",
       "      <td>(76)</td>\n",
       "      <td>1,49 €</td>\n",
       "      <td>·</td>\n",
       "      <td>15-25 min</td>\n",
       "      <td>None</td>\n",
       "    </tr>\n",
       "  </tbody>\n",
       "</table>\n",
       "</div>"
      ],
      "text/plain": [
       "       Restaurant          Tags Tags_2 Like Nº Valoraciones Delivery fee  \\\n",
       "1  Pizzas Lamucca  Hamburguesas  Pizza  95%            (76)       1,49 €   \n",
       "\n",
       "  Erase        ETA        \n",
       "1     ·  15-25 min  None  "
      ]
     },
     "execution_count": 32,
     "metadata": {},
     "output_type": "execute_result"
    }
   ],
   "source": [
    "df.iloc[[1]]"
   ]
  },
  {
   "cell_type": "markdown",
   "id": "9bab40f7",
   "metadata": {},
   "source": [
    "ESTE ES UN EJEMPLO DE UN DATO \"MAS QUE COMPLETO\""
   ]
  },
  {
   "cell_type": "code",
   "execution_count": 41,
   "id": "2c53ba8a",
   "metadata": {},
   "outputs": [
    {
     "data": {
      "text/html": [
       "<div>\n",
       "<style scoped>\n",
       "    .dataframe tbody tr th:only-of-type {\n",
       "        vertical-align: middle;\n",
       "    }\n",
       "\n",
       "    .dataframe tbody tr th {\n",
       "        vertical-align: top;\n",
       "    }\n",
       "\n",
       "    .dataframe thead th {\n",
       "        text-align: right;\n",
       "    }\n",
       "</style>\n",
       "<table border=\"1\" class=\"dataframe\">\n",
       "  <thead>\n",
       "    <tr style=\"text-align: right;\">\n",
       "      <th></th>\n",
       "      <th>Restaurant</th>\n",
       "      <th>Tags</th>\n",
       "      <th>Tags_2</th>\n",
       "      <th>Like</th>\n",
       "      <th>Nº Valoraciones</th>\n",
       "      <th>Delivery fee</th>\n",
       "      <th>Erase</th>\n",
       "      <th>ETA</th>\n",
       "      <th></th>\n",
       "    </tr>\n",
       "  </thead>\n",
       "  <tbody>\n",
       "    <tr>\n",
       "      <th>17</th>\n",
       "      <td>-20%</td>\n",
       "      <td>Honest Greens</td>\n",
       "      <td>Mediterránea</td>\n",
       "      <td>Saludable</td>\n",
       "      <td>92%</td>\n",
       "      <td>(500+)</td>\n",
       "      <td>1,49 €</td>\n",
       "      <td>·</td>\n",
       "      <td>15-25 min</td>\n",
       "    </tr>\n",
       "  </tbody>\n",
       "</table>\n",
       "</div>"
      ],
      "text/plain": [
       "   Restaurant           Tags        Tags_2       Like Nº Valoraciones  \\\n",
       "17       -20%  Honest Greens  Mediterránea  Saludable             92%   \n",
       "\n",
       "   Delivery fee   Erase ETA             \n",
       "17       (500+)  1,49 €   ·  15-25 min  "
      ]
     },
     "execution_count": 41,
     "metadata": {},
     "output_type": "execute_result"
    }
   ],
   "source": [
    "df.iloc[[17]]"
   ]
  },
  {
   "cell_type": "markdown",
   "id": "c5be0f72",
   "metadata": {},
   "source": [
    "ESTE ES UN EJEMPLO DE UN DATO \"INCOMPLETO\""
   ]
  },
  {
   "cell_type": "code",
   "execution_count": 42,
   "id": "e2465a47",
   "metadata": {},
   "outputs": [
    {
     "data": {
      "text/html": [
       "<div>\n",
       "<style scoped>\n",
       "    .dataframe tbody tr th:only-of-type {\n",
       "        vertical-align: middle;\n",
       "    }\n",
       "\n",
       "    .dataframe tbody tr th {\n",
       "        vertical-align: top;\n",
       "    }\n",
       "\n",
       "    .dataframe thead th {\n",
       "        text-align: right;\n",
       "    }\n",
       "</style>\n",
       "<table border=\"1\" class=\"dataframe\">\n",
       "  <thead>\n",
       "    <tr style=\"text-align: right;\">\n",
       "      <th></th>\n",
       "      <th>Restaurant</th>\n",
       "      <th>Tags</th>\n",
       "      <th>Tags_2</th>\n",
       "      <th>Like</th>\n",
       "      <th>Nº Valoraciones</th>\n",
       "      <th>Delivery fee</th>\n",
       "      <th>Erase</th>\n",
       "      <th>ETA</th>\n",
       "      <th></th>\n",
       "    </tr>\n",
       "  </thead>\n",
       "  <tbody>\n",
       "    <tr>\n",
       "      <th>2</th>\n",
       "      <td>Sushi Yakuza</td>\n",
       "      <td>Japonesa</td>\n",
       "      <td>97%</td>\n",
       "      <td>(150)</td>\n",
       "      <td>0,99 €</td>\n",
       "      <td>·</td>\n",
       "      <td>15-25 min</td>\n",
       "      <td>None</td>\n",
       "      <td>None</td>\n",
       "    </tr>\n",
       "  </tbody>\n",
       "</table>\n",
       "</div>"
      ],
      "text/plain": [
       "     Restaurant      Tags Tags_2   Like Nº Valoraciones Delivery fee  \\\n",
       "2  Sushi Yakuza  Japonesa    97%  (150)          0,99 €            ·   \n",
       "\n",
       "       Erase   ETA        \n",
       "2  15-25 min  None  None  "
      ]
     },
     "execution_count": 42,
     "metadata": {},
     "output_type": "execute_result"
    }
   ],
   "source": [
    "df.iloc[[2]]"
   ]
  },
  {
   "cell_type": "markdown",
   "id": "34afd2cb",
   "metadata": {},
   "source": [
    "TENEMOS UN DESASTRE! CADA RESTAURANTE TIENE UNAS CARACTERÍSTICAS DIFERENTES Y ESTO DIFICULTA ORDENARLO..."
   ]
  },
  {
   "cell_type": "code",
   "execution_count": null,
   "id": "085e54e8",
   "metadata": {},
   "outputs": [],
   "source": [
    "VAMOS A BUSCAR UN PATRON QUE NOS AYUDE A LIMPIAR ESTO:\n",
    "    - REGEX?\n",
    "    - LEN DE CADA ELEMENTO?\n",
    "    -"
   ]
  },
  {
   "cell_type": "code",
   "execution_count": null,
   "id": "93a4fe9a",
   "metadata": {},
   "outputs": [],
   "source": []
  },
  {
   "cell_type": "code",
   "execution_count": null,
   "id": "61448780",
   "metadata": {},
   "outputs": [],
   "source": []
  },
  {
   "cell_type": "code",
   "execution_count": null,
   "id": "0b55d995",
   "metadata": {},
   "outputs": [],
   "source": []
  },
  {
   "cell_type": "code",
   "execution_count": null,
   "id": "adaa6af2",
   "metadata": {},
   "outputs": [],
   "source": []
  },
  {
   "cell_type": "code",
   "execution_count": null,
   "id": "a18f126e",
   "metadata": {},
   "outputs": [],
   "source": []
  },
  {
   "cell_type": "code",
   "execution_count": null,
   "id": "9f54f020",
   "metadata": {},
   "outputs": [],
   "source": []
  },
  {
   "cell_type": "markdown",
   "id": "fd964c47",
   "metadata": {},
   "source": [
    "BUSCAMOS PATRONES\n",
    "\n",
    "CAJAS - NO FUNCIONA\n",
    "- /html/body/div[1]/div/div/div[1]/div/div/div/main/div[2]/div/div/div[1]\n",
    "- /html/body/div[1]/div/div/div[1]/div/div/div/main/div[2]/div/div/div[2]\n",
    "\n",
    "RESTAURANTES - TIENE UN ID (NO ITERABLE)\n",
    "- //*[@id=\"97711\"]/div[1]/div[2]/h3\n",
    "- //*[@id=\"21023\"]/div[1]/div[2]/h3\n",
    "\n",
    "- #\\31 24185 > div.card-image > div.card-overlay > h3\n",
    "- #\\32 22359 > div.card-image > div.card-overlay > h3\n",
    "- #\\34 43 > div.card-image > div.card-overlay > h3\n",
    "\n",
    "OTRO RESTAURANTES - TIENE UN ID (NO ITERABLE)\n",
    "- //*[@id=\"88738\"]/div[1]/div[2]\n",
    "- //*[@id=\"128154\"]/div[1]/div[2]\n",
    "\n",
    "OTRA - TIENE UN ID (NO ITERABLE)\n",
    "- //*[@id=\"88738\"]/div[1]/div[2]\n",
    "- //*[@id=\"128154\"]/div[1]/div[2]\n",
    "\n",
    "GENERICA GRANDE\n",
    "- //*[@id=\"default-wrapper\"]/div/div/div/main/div[2]/div/div"
   ]
  }
 ],
 "metadata": {
  "kernelspec": {
   "display_name": "ironhack",
   "language": "python",
   "name": "ironhack"
  },
  "language_info": {
   "codemirror_mode": {
    "name": "ipython",
    "version": 3
   },
   "file_extension": ".py",
   "mimetype": "text/x-python",
   "name": "python",
   "nbconvert_exporter": "python",
   "pygments_lexer": "ipython3",
   "version": "3.8.12"
  }
 },
 "nbformat": 4,
 "nbformat_minor": 5
}
