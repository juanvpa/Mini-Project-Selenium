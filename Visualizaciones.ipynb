{
 "cells": [
  {
   "cell_type": "markdown",
   "id": "5e86f97e",
   "metadata": {},
   "source": [
    "IMPORTAMOS LIBRERÍAS"
   ]
  },
  {
   "cell_type": "code",
   "execution_count": null,
   "id": "c9cb8515",
   "metadata": {},
   "outputs": [],
   "source": [
    "import"
   ]
  },
  {
   "cell_type": "markdown",
   "id": "f64c61fe",
   "metadata": {},
   "source": [
    "IMPORTAMOS EL DATAFRAME"
   ]
  },
  {
   "cell_type": "code",
   "execution_count": null,
   "id": "bdfd8949",
   "metadata": {},
   "outputs": [],
   "source": [
    "read"
   ]
  },
  {
   "cell_type": "markdown",
   "id": "f0188bc5",
   "metadata": {},
   "source": [
    "VAMOS A CREAR UNOS PLOTS QUE NOS AYUDEN A TOMAR DECISIONES"
   ]
  },
  {
   "cell_type": "code",
   "execution_count": 1,
   "id": "05c1da61",
   "metadata": {},
   "outputs": [],
   "source": [
    "from urllib.request import urlopen\n",
    "import re\n",
    "\n",
    "def get_member_since(username):\n",
    "    url = 'https://www.codewars.com/users/{}'.format(username)\n",
    "    html = str(urlopen(url).read())\n",
    "    date = re.search('Member Since:</b>(.*?)</div>', html)\n",
    "    return date.group(1) if date else None"
   ]
  },
  {
   "cell_type": "code",
   "execution_count": 11,
   "id": "c559c434",
   "metadata": {},
   "outputs": [],
   "source": [
    "get_member_since(\"Juan VPA\")"
   ]
  },
  {
   "cell_type": "code",
   "execution_count": 5,
   "id": "967808ac",
   "metadata": {},
   "outputs": [],
   "source": [
    "import requests\n",
    "from bs4 import BeautifulSoup\n",
    "\n",
    "def get_member_since(username):\n",
    "    url = (f\"https://www.codewars.com/users/{username}\")\n",
    "    html = requests.get(url)\n",
    "    soup = BeautifulSoup(html.content,\"html.parser\")\n",
    "    tags = soup.find_all(\"div\", {\"class\": \"stat\"})\n",
    "    "
   ]
  },
  {
   "cell_type": "code",
   "execution_count": 8,
   "id": "24873b9c",
   "metadata": {},
   "outputs": [],
   "source": [
    "get_member_since(\"Juan VPA\")"
   ]
  },
  {
   "cell_type": "code",
   "execution_count": 9,
   "id": "b5b9221e",
   "metadata": {},
   "outputs": [
    {
     "ename": "NameError",
     "evalue": "name 'tags' is not defined",
     "output_type": "error",
     "traceback": [
      "\u001b[0;31m---------------------------------------------------------------------------\u001b[0m",
      "\u001b[0;31mNameError\u001b[0m                                 Traceback (most recent call last)",
      "\u001b[0;32m/var/folders/lp/_3blnsw12kj309tphctgyqlr0000gn/T/ipykernel_50767/2671792144.py\u001b[0m in \u001b[0;36m<module>\u001b[0;34m\u001b[0m\n\u001b[0;32m----> 1\u001b[0;31m \u001b[0mtags\u001b[0m\u001b[0;34m\u001b[0m\u001b[0;34m\u001b[0m\u001b[0m\n\u001b[0m",
      "\u001b[0;31mNameError\u001b[0m: name 'tags' is not defined"
     ]
    }
   ],
   "source": []
  },
  {
   "cell_type": "code",
   "execution_count": null,
   "id": "6cf82c53",
   "metadata": {},
   "outputs": [],
   "source": []
  }
 ],
 "metadata": {
  "kernelspec": {
   "display_name": "ironhack",
   "language": "python",
   "name": "ironhack"
  },
  "language_info": {
   "codemirror_mode": {
    "name": "ipython",
    "version": 3
   },
   "file_extension": ".py",
   "mimetype": "text/x-python",
   "name": "python",
   "nbconvert_exporter": "python",
   "pygments_lexer": "ipython3",
   "version": "3.8.12"
  }
 },
 "nbformat": 4,
 "nbformat_minor": 5
}
