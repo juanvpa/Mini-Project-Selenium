{
 "cells": [
  {
   "cell_type": "markdown",
   "id": "209e9535",
   "metadata": {},
   "source": [
    "IMPORTAMOS LIBRERÍAS"
   ]
  },
  {
   "cell_type": "code",
   "execution_count": null,
   "id": "16a930c7",
   "metadata": {},
   "outputs": [],
   "source": [
    "import"
   ]
  },
  {
   "cell_type": "markdown",
   "id": "ac42b537",
   "metadata": {},
   "source": [
    "IMPORTAMOS EL DATAFRAME"
   ]
  },
  {
   "cell_type": "code",
   "execution_count": null,
   "id": "733033b0",
   "metadata": {},
   "outputs": [],
   "source": [
    "read"
   ]
  },
  {
   "cell_type": "markdown",
   "id": "08bfc552",
   "metadata": {},
   "source": [
    "VAMOS A CREAR UNOS PLOTS QUE NOS AYUDEN A TOMAR DECISIONES"
   ]
  },
  {
   "cell_type": "code",
   "execution_count": null,
   "id": "61d43e83",
   "metadata": {},
   "outputs": [],
   "source": []
  }
 ],
 "metadata": {
  "kernelspec": {
   "display_name": "ironhack",
   "language": "python",
   "name": "ironhack"
  },
  "language_info": {
   "codemirror_mode": {
    "name": "ipython",
    "version": 3
   },
   "file_extension": ".py",
   "mimetype": "text/x-python",
   "name": "python",
   "nbconvert_exporter": "python",
   "pygments_lexer": "ipython3",
   "version": "3.8.12"
  }
 },
 "nbformat": 4,
 "nbformat_minor": 5
}
